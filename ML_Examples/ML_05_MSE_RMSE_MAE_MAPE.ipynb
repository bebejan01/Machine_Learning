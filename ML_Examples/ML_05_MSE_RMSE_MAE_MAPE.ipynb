{
 "cells": [
  {
   "cell_type": "code",
   "execution_count": 1,
   "id": "0adea3ed-8e14-4d28-a7fa-03e60c1ab2e7",
   "metadata": {},
   "outputs": [],
   "source": [
    "# MSE RMSE MAE MAPE"
   ]
  },
  {
   "cell_type": "code",
   "execution_count": 3,
   "id": "b3f61b1b-7d3a-4841-9c0a-01be45a4b2e5",
   "metadata": {},
   "outputs": [],
   "source": [
    "import numpy as np\n",
    "import pandas as pd\n",
    "from sklearn.linear_model import LinearRegression"
   ]
  },
  {
   "cell_type": "code",
   "execution_count": 11,
   "id": "18f5b616-ef26-4079-b6d1-4cc82b823c20",
   "metadata": {},
   "outputs": [],
   "source": [
    "df=pd.read_csv('insurance.csv')"
   ]
  },
  {
   "cell_type": "code",
   "execution_count": 13,
   "id": "9c29b6dd-307c-4b73-a47a-f27cfdc93530",
   "metadata": {},
   "outputs": [
    {
     "data": {
      "text/html": [
       "<div>\n",
       "<style scoped>\n",
       "    .dataframe tbody tr th:only-of-type {\n",
       "        vertical-align: middle;\n",
       "    }\n",
       "\n",
       "    .dataframe tbody tr th {\n",
       "        vertical-align: top;\n",
       "    }\n",
       "\n",
       "    .dataframe thead th {\n",
       "        text-align: right;\n",
       "    }\n",
       "</style>\n",
       "<table border=\"1\" class=\"dataframe\">\n",
       "  <thead>\n",
       "    <tr style=\"text-align: right;\">\n",
       "      <th></th>\n",
       "      <th>age</th>\n",
       "      <th>sex</th>\n",
       "      <th>bmi</th>\n",
       "      <th>children</th>\n",
       "      <th>smoker</th>\n",
       "      <th>region</th>\n",
       "      <th>charges</th>\n",
       "    </tr>\n",
       "  </thead>\n",
       "  <tbody>\n",
       "    <tr>\n",
       "      <th>0</th>\n",
       "      <td>19</td>\n",
       "      <td>female</td>\n",
       "      <td>27.90</td>\n",
       "      <td>0</td>\n",
       "      <td>yes</td>\n",
       "      <td>southwest</td>\n",
       "      <td>16884.9240</td>\n",
       "    </tr>\n",
       "    <tr>\n",
       "      <th>1</th>\n",
       "      <td>18</td>\n",
       "      <td>male</td>\n",
       "      <td>33.77</td>\n",
       "      <td>1</td>\n",
       "      <td>no</td>\n",
       "      <td>southeast</td>\n",
       "      <td>1725.5523</td>\n",
       "    </tr>\n",
       "    <tr>\n",
       "      <th>2</th>\n",
       "      <td>28</td>\n",
       "      <td>male</td>\n",
       "      <td>33.00</td>\n",
       "      <td>3</td>\n",
       "      <td>no</td>\n",
       "      <td>southeast</td>\n",
       "      <td>4449.4620</td>\n",
       "    </tr>\n",
       "  </tbody>\n",
       "</table>\n",
       "</div>"
      ],
      "text/plain": [
       "   age     sex    bmi  children smoker     region     charges\n",
       "0   19  female  27.90         0    yes  southwest  16884.9240\n",
       "1   18    male  33.77         1     no  southeast   1725.5523\n",
       "2   28    male  33.00         3     no  southeast   4449.4620"
      ]
     },
     "execution_count": 13,
     "metadata": {},
     "output_type": "execute_result"
    }
   ],
   "source": [
    "df.head(3)"
   ]
  },
  {
   "cell_type": "code",
   "execution_count": 21,
   "id": "f5fd0b18-8c39-425d-b14e-f566ad52a76c",
   "metadata": {},
   "outputs": [],
   "source": [
    "df=pd.get_dummies(df,columns=['sex','smoker','region'],drop_first=True)"
   ]
  },
  {
   "cell_type": "code",
   "execution_count": 23,
   "id": "31a3c78d-de45-4b1d-bb53-0297c288bff2",
   "metadata": {},
   "outputs": [
    {
     "data": {
      "text/html": [
       "<div>\n",
       "<style scoped>\n",
       "    .dataframe tbody tr th:only-of-type {\n",
       "        vertical-align: middle;\n",
       "    }\n",
       "\n",
       "    .dataframe tbody tr th {\n",
       "        vertical-align: top;\n",
       "    }\n",
       "\n",
       "    .dataframe thead th {\n",
       "        text-align: right;\n",
       "    }\n",
       "</style>\n",
       "<table border=\"1\" class=\"dataframe\">\n",
       "  <thead>\n",
       "    <tr style=\"text-align: right;\">\n",
       "      <th></th>\n",
       "      <th>age</th>\n",
       "      <th>bmi</th>\n",
       "      <th>children</th>\n",
       "      <th>charges</th>\n",
       "      <th>sex_male</th>\n",
       "      <th>smoker_yes</th>\n",
       "      <th>region_northwest</th>\n",
       "      <th>region_southeast</th>\n",
       "      <th>region_southwest</th>\n",
       "    </tr>\n",
       "  </thead>\n",
       "  <tbody>\n",
       "    <tr>\n",
       "      <th>0</th>\n",
       "      <td>19</td>\n",
       "      <td>27.90</td>\n",
       "      <td>0</td>\n",
       "      <td>16884.9240</td>\n",
       "      <td>False</td>\n",
       "      <td>True</td>\n",
       "      <td>False</td>\n",
       "      <td>False</td>\n",
       "      <td>True</td>\n",
       "    </tr>\n",
       "    <tr>\n",
       "      <th>1</th>\n",
       "      <td>18</td>\n",
       "      <td>33.77</td>\n",
       "      <td>1</td>\n",
       "      <td>1725.5523</td>\n",
       "      <td>True</td>\n",
       "      <td>False</td>\n",
       "      <td>False</td>\n",
       "      <td>True</td>\n",
       "      <td>False</td>\n",
       "    </tr>\n",
       "    <tr>\n",
       "      <th>2</th>\n",
       "      <td>28</td>\n",
       "      <td>33.00</td>\n",
       "      <td>3</td>\n",
       "      <td>4449.4620</td>\n",
       "      <td>True</td>\n",
       "      <td>False</td>\n",
       "      <td>False</td>\n",
       "      <td>True</td>\n",
       "      <td>False</td>\n",
       "    </tr>\n",
       "  </tbody>\n",
       "</table>\n",
       "</div>"
      ],
      "text/plain": [
       "   age    bmi  children     charges  sex_male  smoker_yes  region_northwest  \\\n",
       "0   19  27.90         0  16884.9240     False        True             False   \n",
       "1   18  33.77         1   1725.5523      True       False             False   \n",
       "2   28  33.00         3   4449.4620      True       False             False   \n",
       "\n",
       "   region_southeast  region_southwest  \n",
       "0             False              True  \n",
       "1              True             False  \n",
       "2              True             False  "
      ]
     },
     "execution_count": 23,
     "metadata": {},
     "output_type": "execute_result"
    }
   ],
   "source": [
    "df.head(3)"
   ]
  },
  {
   "cell_type": "code",
   "execution_count": 25,
   "id": "6bf92aef-6b2e-4db8-bd44-ab832807bbe5",
   "metadata": {},
   "outputs": [],
   "source": [
    "y=df[['charges']]\n",
    "x=df.drop('charges',axis=1)"
   ]
  },
  {
   "cell_type": "code",
   "execution_count": 27,
   "id": "b602baff-1fb8-42aa-99bc-7b47b28ca9e1",
   "metadata": {},
   "outputs": [],
   "source": [
    "lm=LinearRegression()\n",
    "model=lm.fit(x,y)"
   ]
  },
  {
   "cell_type": "code",
   "execution_count": 29,
   "id": "11fd805e-9d51-4d16-afce-3c81b0e13e2f",
   "metadata": {},
   "outputs": [
    {
     "data": {
      "text/plain": [
       "0.7509130345985207"
      ]
     },
     "execution_count": 29,
     "metadata": {},
     "output_type": "execute_result"
    }
   ],
   "source": [
    "model.score(x,y)"
   ]
  },
  {
   "cell_type": "code",
   "execution_count": 31,
   "id": "bee4f291-216f-4bba-b7af-72f1cab88a1a",
   "metadata": {},
   "outputs": [
    {
     "name": "stderr",
     "output_type": "stream",
     "text": [
      "C:\\Users\\T7\\anaconda3\\Lib\\site-packages\\sklearn\\base.py:493: UserWarning: X does not have valid feature names, but LinearRegression was fitted with feature names\n",
      "  warnings.warn(\n"
     ]
    },
    {
     "data": {
      "text/plain": [
       "array([[24517.93110714]])"
      ]
     },
     "execution_count": 31,
     "metadata": {},
     "output_type": "execute_result"
    }
   ],
   "source": [
    "model.predict([[19,26,0,1,1,0,0,1]])"
   ]
  },
  {
   "cell_type": "code",
   "execution_count": 33,
   "id": "7ee8849e-e92d-49ef-829c-950c298cb268",
   "metadata": {},
   "outputs": [],
   "source": [
    "df_hata=pd.DataFrame()"
   ]
  },
  {
   "cell_type": "code",
   "execution_count": 35,
   "id": "98c6f0f5-9a52-4db8-92d9-28ad43e61711",
   "metadata": {},
   "outputs": [],
   "source": [
    "df_hata['y']=y"
   ]
  },
  {
   "cell_type": "code",
   "execution_count": 37,
   "id": "3400f472-e630-4460-9d5c-ed6fc7f26298",
   "metadata": {},
   "outputs": [
    {
     "data": {
      "text/html": [
       "<div>\n",
       "<style scoped>\n",
       "    .dataframe tbody tr th:only-of-type {\n",
       "        vertical-align: middle;\n",
       "    }\n",
       "\n",
       "    .dataframe tbody tr th {\n",
       "        vertical-align: top;\n",
       "    }\n",
       "\n",
       "    .dataframe thead th {\n",
       "        text-align: right;\n",
       "    }\n",
       "</style>\n",
       "<table border=\"1\" class=\"dataframe\">\n",
       "  <thead>\n",
       "    <tr style=\"text-align: right;\">\n",
       "      <th></th>\n",
       "      <th>y</th>\n",
       "    </tr>\n",
       "  </thead>\n",
       "  <tbody>\n",
       "    <tr>\n",
       "      <th>0</th>\n",
       "      <td>16884.92400</td>\n",
       "    </tr>\n",
       "    <tr>\n",
       "      <th>1</th>\n",
       "      <td>1725.55230</td>\n",
       "    </tr>\n",
       "    <tr>\n",
       "      <th>2</th>\n",
       "      <td>4449.46200</td>\n",
       "    </tr>\n",
       "    <tr>\n",
       "      <th>3</th>\n",
       "      <td>21984.47061</td>\n",
       "    </tr>\n",
       "    <tr>\n",
       "      <th>4</th>\n",
       "      <td>3866.85520</td>\n",
       "    </tr>\n",
       "    <tr>\n",
       "      <th>...</th>\n",
       "      <td>...</td>\n",
       "    </tr>\n",
       "    <tr>\n",
       "      <th>1333</th>\n",
       "      <td>10600.54830</td>\n",
       "    </tr>\n",
       "    <tr>\n",
       "      <th>1334</th>\n",
       "      <td>2205.98080</td>\n",
       "    </tr>\n",
       "    <tr>\n",
       "      <th>1335</th>\n",
       "      <td>1629.83350</td>\n",
       "    </tr>\n",
       "    <tr>\n",
       "      <th>1336</th>\n",
       "      <td>2007.94500</td>\n",
       "    </tr>\n",
       "    <tr>\n",
       "      <th>1337</th>\n",
       "      <td>29141.36030</td>\n",
       "    </tr>\n",
       "  </tbody>\n",
       "</table>\n",
       "<p>1338 rows × 1 columns</p>\n",
       "</div>"
      ],
      "text/plain": [
       "                y\n",
       "0     16884.92400\n",
       "1      1725.55230\n",
       "2      4449.46200\n",
       "3     21984.47061\n",
       "4      3866.85520\n",
       "...           ...\n",
       "1333  10600.54830\n",
       "1334   2205.98080\n",
       "1335   1629.83350\n",
       "1336   2007.94500\n",
       "1337  29141.36030\n",
       "\n",
       "[1338 rows x 1 columns]"
      ]
     },
     "execution_count": 37,
     "metadata": {},
     "output_type": "execute_result"
    }
   ],
   "source": [
    "df_hata"
   ]
  },
  {
   "cell_type": "code",
   "execution_count": 39,
   "id": "31d470c7-8c11-4fa3-a529-311e95f7c9ca",
   "metadata": {},
   "outputs": [],
   "source": [
    "y_tahmin=model.predict(x)"
   ]
  },
  {
   "cell_type": "code",
   "execution_count": 41,
   "id": "3b721fb0-8f74-46de-baa1-d2a9e36ab18d",
   "metadata": {},
   "outputs": [],
   "source": [
    "df_hata['tahmin']=y_tahmin"
   ]
  },
  {
   "cell_type": "code",
   "execution_count": 43,
   "id": "cffb9e2f-ea49-485d-bd1b-ee2d25fbf5d6",
   "metadata": {},
   "outputs": [
    {
     "data": {
      "text/html": [
       "<div>\n",
       "<style scoped>\n",
       "    .dataframe tbody tr th:only-of-type {\n",
       "        vertical-align: middle;\n",
       "    }\n",
       "\n",
       "    .dataframe tbody tr th {\n",
       "        vertical-align: top;\n",
       "    }\n",
       "\n",
       "    .dataframe thead th {\n",
       "        text-align: right;\n",
       "    }\n",
       "</style>\n",
       "<table border=\"1\" class=\"dataframe\">\n",
       "  <thead>\n",
       "    <tr style=\"text-align: right;\">\n",
       "      <th></th>\n",
       "      <th>y</th>\n",
       "      <th>tahmin</th>\n",
       "    </tr>\n",
       "  </thead>\n",
       "  <tbody>\n",
       "    <tr>\n",
       "      <th>0</th>\n",
       "      <td>16884.92400</td>\n",
       "      <td>25293.713028</td>\n",
       "    </tr>\n",
       "    <tr>\n",
       "      <th>1</th>\n",
       "      <td>1725.55230</td>\n",
       "      <td>3448.602834</td>\n",
       "    </tr>\n",
       "    <tr>\n",
       "      <th>2</th>\n",
       "      <td>4449.46200</td>\n",
       "      <td>6706.988491</td>\n",
       "    </tr>\n",
       "    <tr>\n",
       "      <th>3</th>\n",
       "      <td>21984.47061</td>\n",
       "      <td>3754.830163</td>\n",
       "    </tr>\n",
       "    <tr>\n",
       "      <th>4</th>\n",
       "      <td>3866.85520</td>\n",
       "      <td>5592.493386</td>\n",
       "    </tr>\n",
       "    <tr>\n",
       "      <th>...</th>\n",
       "      <td>...</td>\n",
       "      <td>...</td>\n",
       "    </tr>\n",
       "    <tr>\n",
       "      <th>1333</th>\n",
       "      <td>10600.54830</td>\n",
       "      <td>12351.323686</td>\n",
       "    </tr>\n",
       "    <tr>\n",
       "      <th>1334</th>\n",
       "      <td>2205.98080</td>\n",
       "      <td>3511.930809</td>\n",
       "    </tr>\n",
       "    <tr>\n",
       "      <th>1335</th>\n",
       "      <td>1629.83350</td>\n",
       "      <td>4149.132486</td>\n",
       "    </tr>\n",
       "    <tr>\n",
       "      <th>1336</th>\n",
       "      <td>2007.94500</td>\n",
       "      <td>1246.584939</td>\n",
       "    </tr>\n",
       "    <tr>\n",
       "      <th>1337</th>\n",
       "      <td>29141.36030</td>\n",
       "      <td>37085.623268</td>\n",
       "    </tr>\n",
       "  </tbody>\n",
       "</table>\n",
       "<p>1338 rows × 2 columns</p>\n",
       "</div>"
      ],
      "text/plain": [
       "                y        tahmin\n",
       "0     16884.92400  25293.713028\n",
       "1      1725.55230   3448.602834\n",
       "2      4449.46200   6706.988491\n",
       "3     21984.47061   3754.830163\n",
       "4      3866.85520   5592.493386\n",
       "...           ...           ...\n",
       "1333  10600.54830  12351.323686\n",
       "1334   2205.98080   3511.930809\n",
       "1335   1629.83350   4149.132486\n",
       "1336   2007.94500   1246.584939\n",
       "1337  29141.36030  37085.623268\n",
       "\n",
       "[1338 rows x 2 columns]"
      ]
     },
     "execution_count": 43,
     "metadata": {},
     "output_type": "execute_result"
    }
   ],
   "source": [
    "df_hata"
   ]
  },
  {
   "cell_type": "code",
   "execution_count": 45,
   "id": "962432b9-d0ca-449c-8435-18dc800810f4",
   "metadata": {},
   "outputs": [],
   "source": [
    "df_hata['error']=y-y_tahmin"
   ]
  },
  {
   "cell_type": "code",
   "execution_count": 47,
   "id": "7a5cc3ec-4bb8-47ee-945e-4e1d194b91e3",
   "metadata": {},
   "outputs": [
    {
     "data": {
      "text/html": [
       "<div>\n",
       "<style scoped>\n",
       "    .dataframe tbody tr th:only-of-type {\n",
       "        vertical-align: middle;\n",
       "    }\n",
       "\n",
       "    .dataframe tbody tr th {\n",
       "        vertical-align: top;\n",
       "    }\n",
       "\n",
       "    .dataframe thead th {\n",
       "        text-align: right;\n",
       "    }\n",
       "</style>\n",
       "<table border=\"1\" class=\"dataframe\">\n",
       "  <thead>\n",
       "    <tr style=\"text-align: right;\">\n",
       "      <th></th>\n",
       "      <th>y</th>\n",
       "      <th>tahmin</th>\n",
       "      <th>error</th>\n",
       "    </tr>\n",
       "  </thead>\n",
       "  <tbody>\n",
       "    <tr>\n",
       "      <th>0</th>\n",
       "      <td>16884.92400</td>\n",
       "      <td>25293.713028</td>\n",
       "      <td>-8408.789028</td>\n",
       "    </tr>\n",
       "    <tr>\n",
       "      <th>1</th>\n",
       "      <td>1725.55230</td>\n",
       "      <td>3448.602834</td>\n",
       "      <td>-1723.050534</td>\n",
       "    </tr>\n",
       "    <tr>\n",
       "      <th>2</th>\n",
       "      <td>4449.46200</td>\n",
       "      <td>6706.988491</td>\n",
       "      <td>-2257.526491</td>\n",
       "    </tr>\n",
       "    <tr>\n",
       "      <th>3</th>\n",
       "      <td>21984.47061</td>\n",
       "      <td>3754.830163</td>\n",
       "      <td>18229.640447</td>\n",
       "    </tr>\n",
       "    <tr>\n",
       "      <th>4</th>\n",
       "      <td>3866.85520</td>\n",
       "      <td>5592.493386</td>\n",
       "      <td>-1725.638186</td>\n",
       "    </tr>\n",
       "    <tr>\n",
       "      <th>5</th>\n",
       "      <td>3756.62160</td>\n",
       "      <td>3719.825799</td>\n",
       "      <td>36.795801</td>\n",
       "    </tr>\n",
       "    <tr>\n",
       "      <th>6</th>\n",
       "      <td>8240.58960</td>\n",
       "      <td>10659.961225</td>\n",
       "      <td>-2419.371625</td>\n",
       "    </tr>\n",
       "    <tr>\n",
       "      <th>7</th>\n",
       "      <td>7281.50560</td>\n",
       "      <td>8047.910607</td>\n",
       "      <td>-766.405007</td>\n",
       "    </tr>\n",
       "    <tr>\n",
       "      <th>8</th>\n",
       "      <td>6406.41070</td>\n",
       "      <td>8502.973920</td>\n",
       "      <td>-2096.563220</td>\n",
       "    </tr>\n",
       "    <tr>\n",
       "      <th>9</th>\n",
       "      <td>28923.13692</td>\n",
       "      <td>11884.637518</td>\n",
       "      <td>17038.499402</td>\n",
       "    </tr>\n",
       "  </tbody>\n",
       "</table>\n",
       "</div>"
      ],
      "text/plain": [
       "             y        tahmin         error\n",
       "0  16884.92400  25293.713028  -8408.789028\n",
       "1   1725.55230   3448.602834  -1723.050534\n",
       "2   4449.46200   6706.988491  -2257.526491\n",
       "3  21984.47061   3754.830163  18229.640447\n",
       "4   3866.85520   5592.493386  -1725.638186\n",
       "5   3756.62160   3719.825799     36.795801\n",
       "6   8240.58960  10659.961225  -2419.371625\n",
       "7   7281.50560   8047.910607   -766.405007\n",
       "8   6406.41070   8502.973920  -2096.563220\n",
       "9  28923.13692  11884.637518  17038.499402"
      ]
     },
     "execution_count": 47,
     "metadata": {},
     "output_type": "execute_result"
    }
   ],
   "source": [
    "df_hata.head(10)"
   ]
  },
  {
   "cell_type": "code",
   "execution_count": 51,
   "id": "9ca4c943-2b82-4022-868f-0a7cdc5ef239",
   "metadata": {},
   "outputs": [],
   "source": [
    "df_hata['squared_error']=df_hata['error']**2"
   ]
  },
  {
   "cell_type": "code",
   "execution_count": 53,
   "id": "d008a532-4aab-4829-9d96-ae727cbb6fd6",
   "metadata": {},
   "outputs": [],
   "source": [
    "df_hata['abs_error']=np.abs(df_hata['error'])"
   ]
  },
  {
   "cell_type": "code",
   "execution_count": 55,
   "id": "202d2192-3c41-4e34-9a4e-984cb4e103b3",
   "metadata": {},
   "outputs": [
    {
     "data": {
      "text/html": [
       "<div>\n",
       "<style scoped>\n",
       "    .dataframe tbody tr th:only-of-type {\n",
       "        vertical-align: middle;\n",
       "    }\n",
       "\n",
       "    .dataframe tbody tr th {\n",
       "        vertical-align: top;\n",
       "    }\n",
       "\n",
       "    .dataframe thead th {\n",
       "        text-align: right;\n",
       "    }\n",
       "</style>\n",
       "<table border=\"1\" class=\"dataframe\">\n",
       "  <thead>\n",
       "    <tr style=\"text-align: right;\">\n",
       "      <th></th>\n",
       "      <th>y</th>\n",
       "      <th>tahmin</th>\n",
       "      <th>error</th>\n",
       "      <th>squared_error</th>\n",
       "      <th>abs_error</th>\n",
       "    </tr>\n",
       "  </thead>\n",
       "  <tbody>\n",
       "    <tr>\n",
       "      <th>0</th>\n",
       "      <td>16884.92400</td>\n",
       "      <td>25293.713028</td>\n",
       "      <td>-8408.789028</td>\n",
       "      <td>7.070773e+07</td>\n",
       "      <td>8408.789028</td>\n",
       "    </tr>\n",
       "    <tr>\n",
       "      <th>1</th>\n",
       "      <td>1725.55230</td>\n",
       "      <td>3448.602834</td>\n",
       "      <td>-1723.050534</td>\n",
       "      <td>2.968903e+06</td>\n",
       "      <td>1723.050534</td>\n",
       "    </tr>\n",
       "    <tr>\n",
       "      <th>2</th>\n",
       "      <td>4449.46200</td>\n",
       "      <td>6706.988491</td>\n",
       "      <td>-2257.526491</td>\n",
       "      <td>5.096426e+06</td>\n",
       "      <td>2257.526491</td>\n",
       "    </tr>\n",
       "    <tr>\n",
       "      <th>3</th>\n",
       "      <td>21984.47061</td>\n",
       "      <td>3754.830163</td>\n",
       "      <td>18229.640447</td>\n",
       "      <td>3.323198e+08</td>\n",
       "      <td>18229.640447</td>\n",
       "    </tr>\n",
       "    <tr>\n",
       "      <th>4</th>\n",
       "      <td>3866.85520</td>\n",
       "      <td>5592.493386</td>\n",
       "      <td>-1725.638186</td>\n",
       "      <td>2.977827e+06</td>\n",
       "      <td>1725.638186</td>\n",
       "    </tr>\n",
       "    <tr>\n",
       "      <th>...</th>\n",
       "      <td>...</td>\n",
       "      <td>...</td>\n",
       "      <td>...</td>\n",
       "      <td>...</td>\n",
       "      <td>...</td>\n",
       "    </tr>\n",
       "    <tr>\n",
       "      <th>1333</th>\n",
       "      <td>10600.54830</td>\n",
       "      <td>12351.323686</td>\n",
       "      <td>-1750.775386</td>\n",
       "      <td>3.065214e+06</td>\n",
       "      <td>1750.775386</td>\n",
       "    </tr>\n",
       "    <tr>\n",
       "      <th>1334</th>\n",
       "      <td>2205.98080</td>\n",
       "      <td>3511.930809</td>\n",
       "      <td>-1305.950009</td>\n",
       "      <td>1.705505e+06</td>\n",
       "      <td>1305.950009</td>\n",
       "    </tr>\n",
       "    <tr>\n",
       "      <th>1335</th>\n",
       "      <td>1629.83350</td>\n",
       "      <td>4149.132486</td>\n",
       "      <td>-2519.298986</td>\n",
       "      <td>6.346867e+06</td>\n",
       "      <td>2519.298986</td>\n",
       "    </tr>\n",
       "    <tr>\n",
       "      <th>1336</th>\n",
       "      <td>2007.94500</td>\n",
       "      <td>1246.584939</td>\n",
       "      <td>761.360061</td>\n",
       "      <td>5.796691e+05</td>\n",
       "      <td>761.360061</td>\n",
       "    </tr>\n",
       "    <tr>\n",
       "      <th>1337</th>\n",
       "      <td>29141.36030</td>\n",
       "      <td>37085.623268</td>\n",
       "      <td>-7944.262968</td>\n",
       "      <td>6.311131e+07</td>\n",
       "      <td>7944.262968</td>\n",
       "    </tr>\n",
       "  </tbody>\n",
       "</table>\n",
       "<p>1338 rows × 5 columns</p>\n",
       "</div>"
      ],
      "text/plain": [
       "                y        tahmin         error  squared_error     abs_error\n",
       "0     16884.92400  25293.713028  -8408.789028   7.070773e+07   8408.789028\n",
       "1      1725.55230   3448.602834  -1723.050534   2.968903e+06   1723.050534\n",
       "2      4449.46200   6706.988491  -2257.526491   5.096426e+06   2257.526491\n",
       "3     21984.47061   3754.830163  18229.640447   3.323198e+08  18229.640447\n",
       "4      3866.85520   5592.493386  -1725.638186   2.977827e+06   1725.638186\n",
       "...           ...           ...           ...            ...           ...\n",
       "1333  10600.54830  12351.323686  -1750.775386   3.065214e+06   1750.775386\n",
       "1334   2205.98080   3511.930809  -1305.950009   1.705505e+06   1305.950009\n",
       "1335   1629.83350   4149.132486  -2519.298986   6.346867e+06   2519.298986\n",
       "1336   2007.94500   1246.584939    761.360061   5.796691e+05    761.360061\n",
       "1337  29141.36030  37085.623268  -7944.262968   6.311131e+07   7944.262968\n",
       "\n",
       "[1338 rows x 5 columns]"
      ]
     },
     "execution_count": 55,
     "metadata": {},
     "output_type": "execute_result"
    }
   ],
   "source": [
    "df_hata"
   ]
  },
  {
   "cell_type": "code",
   "execution_count": 61,
   "id": "d808b22e-cbcd-4c12-9c2e-10a17c979d17",
   "metadata": {},
   "outputs": [],
   "source": [
    "df_hata['percent_error']=np.abs((y-y_tahmin)/y)"
   ]
  },
  {
   "cell_type": "code",
   "execution_count": 63,
   "id": "8fa5d9b3-c114-433c-ba89-23a9789b52c7",
   "metadata": {},
   "outputs": [
    {
     "data": {
      "text/html": [
       "<div>\n",
       "<style scoped>\n",
       "    .dataframe tbody tr th:only-of-type {\n",
       "        vertical-align: middle;\n",
       "    }\n",
       "\n",
       "    .dataframe tbody tr th {\n",
       "        vertical-align: top;\n",
       "    }\n",
       "\n",
       "    .dataframe thead th {\n",
       "        text-align: right;\n",
       "    }\n",
       "</style>\n",
       "<table border=\"1\" class=\"dataframe\">\n",
       "  <thead>\n",
       "    <tr style=\"text-align: right;\">\n",
       "      <th></th>\n",
       "      <th>y</th>\n",
       "      <th>tahmin</th>\n",
       "      <th>error</th>\n",
       "      <th>squared_error</th>\n",
       "      <th>abs_error</th>\n",
       "      <th>percent_error</th>\n",
       "    </tr>\n",
       "  </thead>\n",
       "  <tbody>\n",
       "    <tr>\n",
       "      <th>0</th>\n",
       "      <td>16884.92400</td>\n",
       "      <td>25293.713028</td>\n",
       "      <td>-8408.789028</td>\n",
       "      <td>7.070773e+07</td>\n",
       "      <td>8408.789028</td>\n",
       "      <td>0.498006</td>\n",
       "    </tr>\n",
       "    <tr>\n",
       "      <th>1</th>\n",
       "      <td>1725.55230</td>\n",
       "      <td>3448.602834</td>\n",
       "      <td>-1723.050534</td>\n",
       "      <td>2.968903e+06</td>\n",
       "      <td>1723.050534</td>\n",
       "      <td>0.998550</td>\n",
       "    </tr>\n",
       "    <tr>\n",
       "      <th>2</th>\n",
       "      <td>4449.46200</td>\n",
       "      <td>6706.988491</td>\n",
       "      <td>-2257.526491</td>\n",
       "      <td>5.096426e+06</td>\n",
       "      <td>2257.526491</td>\n",
       "      <td>0.507371</td>\n",
       "    </tr>\n",
       "    <tr>\n",
       "      <th>3</th>\n",
       "      <td>21984.47061</td>\n",
       "      <td>3754.830163</td>\n",
       "      <td>18229.640447</td>\n",
       "      <td>3.323198e+08</td>\n",
       "      <td>18229.640447</td>\n",
       "      <td>0.829205</td>\n",
       "    </tr>\n",
       "    <tr>\n",
       "      <th>4</th>\n",
       "      <td>3866.85520</td>\n",
       "      <td>5592.493386</td>\n",
       "      <td>-1725.638186</td>\n",
       "      <td>2.977827e+06</td>\n",
       "      <td>1725.638186</td>\n",
       "      <td>0.446264</td>\n",
       "    </tr>\n",
       "    <tr>\n",
       "      <th>...</th>\n",
       "      <td>...</td>\n",
       "      <td>...</td>\n",
       "      <td>...</td>\n",
       "      <td>...</td>\n",
       "      <td>...</td>\n",
       "      <td>...</td>\n",
       "    </tr>\n",
       "    <tr>\n",
       "      <th>1333</th>\n",
       "      <td>10600.54830</td>\n",
       "      <td>12351.323686</td>\n",
       "      <td>-1750.775386</td>\n",
       "      <td>3.065214e+06</td>\n",
       "      <td>1750.775386</td>\n",
       "      <td>0.165159</td>\n",
       "    </tr>\n",
       "    <tr>\n",
       "      <th>1334</th>\n",
       "      <td>2205.98080</td>\n",
       "      <td>3511.930809</td>\n",
       "      <td>-1305.950009</td>\n",
       "      <td>1.705505e+06</td>\n",
       "      <td>1305.950009</td>\n",
       "      <td>0.592004</td>\n",
       "    </tr>\n",
       "    <tr>\n",
       "      <th>1335</th>\n",
       "      <td>1629.83350</td>\n",
       "      <td>4149.132486</td>\n",
       "      <td>-2519.298986</td>\n",
       "      <td>6.346867e+06</td>\n",
       "      <td>2519.298986</td>\n",
       "      <td>1.545740</td>\n",
       "    </tr>\n",
       "    <tr>\n",
       "      <th>1336</th>\n",
       "      <td>2007.94500</td>\n",
       "      <td>1246.584939</td>\n",
       "      <td>761.360061</td>\n",
       "      <td>5.796691e+05</td>\n",
       "      <td>761.360061</td>\n",
       "      <td>0.379174</td>\n",
       "    </tr>\n",
       "    <tr>\n",
       "      <th>1337</th>\n",
       "      <td>29141.36030</td>\n",
       "      <td>37085.623268</td>\n",
       "      <td>-7944.262968</td>\n",
       "      <td>6.311131e+07</td>\n",
       "      <td>7944.262968</td>\n",
       "      <td>0.272611</td>\n",
       "    </tr>\n",
       "  </tbody>\n",
       "</table>\n",
       "<p>1338 rows × 6 columns</p>\n",
       "</div>"
      ],
      "text/plain": [
       "                y        tahmin         error  squared_error     abs_error  \\\n",
       "0     16884.92400  25293.713028  -8408.789028   7.070773e+07   8408.789028   \n",
       "1      1725.55230   3448.602834  -1723.050534   2.968903e+06   1723.050534   \n",
       "2      4449.46200   6706.988491  -2257.526491   5.096426e+06   2257.526491   \n",
       "3     21984.47061   3754.830163  18229.640447   3.323198e+08  18229.640447   \n",
       "4      3866.85520   5592.493386  -1725.638186   2.977827e+06   1725.638186   \n",
       "...           ...           ...           ...            ...           ...   \n",
       "1333  10600.54830  12351.323686  -1750.775386   3.065214e+06   1750.775386   \n",
       "1334   2205.98080   3511.930809  -1305.950009   1.705505e+06   1305.950009   \n",
       "1335   1629.83350   4149.132486  -2519.298986   6.346867e+06   2519.298986   \n",
       "1336   2007.94500   1246.584939    761.360061   5.796691e+05    761.360061   \n",
       "1337  29141.36030  37085.623268  -7944.262968   6.311131e+07   7944.262968   \n",
       "\n",
       "      percent_error  \n",
       "0          0.498006  \n",
       "1          0.998550  \n",
       "2          0.507371  \n",
       "3          0.829205  \n",
       "4          0.446264  \n",
       "...             ...  \n",
       "1333       0.165159  \n",
       "1334       0.592004  \n",
       "1335       1.545740  \n",
       "1336       0.379174  \n",
       "1337       0.272611  \n",
       "\n",
       "[1338 rows x 6 columns]"
      ]
     },
     "execution_count": 63,
     "metadata": {},
     "output_type": "execute_result"
    }
   ],
   "source": [
    "df_hata"
   ]
  },
  {
   "cell_type": "code",
   "execution_count": 65,
   "id": "dd8ce275-3075-405a-b5da-9149337a62e0",
   "metadata": {},
   "outputs": [
    {
     "data": {
      "text/plain": [
       "y                1.327042e+04\n",
       "tahmin           1.327042e+04\n",
       "error           -4.187210e-13\n",
       "squared_error    3.650189e+07\n",
       "abs_error        4.170887e+03\n",
       "percent_error    4.203527e-01\n",
       "dtype: float64"
      ]
     },
     "execution_count": 65,
     "metadata": {},
     "output_type": "execute_result"
    }
   ],
   "source": [
    "df_hata.mean()"
   ]
  },
  {
   "cell_type": "code",
   "execution_count": 67,
   "id": "d5419713-3585-4d2a-a03a-49d626f3942d",
   "metadata": {},
   "outputs": [],
   "source": [
    "from sklearn.metrics import mean_squared_error, mean_absolute_error, mean_absolute_percentage_error"
   ]
  },
  {
   "cell_type": "code",
   "execution_count": 69,
   "id": "264b0a72-de29-4fbb-b651-691ba91651c2",
   "metadata": {},
   "outputs": [
    {
     "data": {
      "text/plain": [
       "36501893.00741544"
      ]
     },
     "execution_count": 69,
     "metadata": {},
     "output_type": "execute_result"
    }
   ],
   "source": [
    "mean_squared_error(y,y_tahmin)"
   ]
  },
  {
   "cell_type": "code",
   "execution_count": 71,
   "id": "db68a39a-6988-43cc-96b5-b91b90e1954a",
   "metadata": {},
   "outputs": [
    {
     "data": {
      "text/plain": [
       "4170.886894163586"
      ]
     },
     "execution_count": 71,
     "metadata": {},
     "output_type": "execute_result"
    }
   ],
   "source": [
    "mean_absolute_error(y,y_tahmin)"
   ]
  },
  {
   "cell_type": "code",
   "execution_count": 75,
   "id": "403a99c3-0f80-4606-841b-5030c01f521a",
   "metadata": {},
   "outputs": [
    {
     "data": {
      "text/plain": [
       "0.42035268473727017"
      ]
     },
     "execution_count": 75,
     "metadata": {},
     "output_type": "execute_result"
    }
   ],
   "source": [
    "mean_absolute_percentage_error(y,y_tahmin)"
   ]
  },
  {
   "cell_type": "code",
   "execution_count": null,
   "id": "641273da-58a2-4bac-9edc-6482ad36970c",
   "metadata": {},
   "outputs": [],
   "source": []
  }
 ],
 "metadata": {
  "kernelspec": {
   "display_name": "Python [conda env:base] *",
   "language": "python",
   "name": "conda-base-py"
  },
  "language_info": {
   "codemirror_mode": {
    "name": "ipython",
    "version": 3
   },
   "file_extension": ".py",
   "mimetype": "text/x-python",
   "name": "python",
   "nbconvert_exporter": "python",
   "pygments_lexer": "ipython3",
   "version": "3.12.7"
  }
 },
 "nbformat": 4,
 "nbformat_minor": 5
}
