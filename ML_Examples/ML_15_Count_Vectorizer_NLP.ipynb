{
 "cells": [
  {
   "cell_type": "code",
   "execution_count": 19,
   "id": "56186e92-2055-4641-9271-62b46410b63b",
   "metadata": {},
   "outputs": [],
   "source": [
    "import pandas as pd\n",
    "import numpy as np\n",
    "from sklearn.feature_extraction.text import CountVectorizer"
   ]
  },
  {
   "cell_type": "code",
   "execution_count": 53,
   "id": "efb77bf9-d495-4ebf-a714-5396f19778ad",
   "metadata": {},
   "outputs": [],
   "source": [
    "df=pd.DataFrame()"
   ]
  },
  {
   "cell_type": "code",
   "execution_count": 55,
   "id": "f9f356d4-67a1-45f7-8bff-c0a4c61aefa2",
   "metadata": {},
   "outputs": [],
   "source": [
    "df['cumleler']=['ali bak','ali ata bak','bak ali bak','ali güzel ata bak','ışık ılık süt iç','ışık süt iç','iç ışık iç']"
   ]
  },
  {
   "cell_type": "code",
   "execution_count": 57,
   "id": "672715fa-dacb-4b81-a28c-2d56c6cfdbc2",
   "metadata": {},
   "outputs": [],
   "source": [
    "cv=CountVectorizer()"
   ]
  },
  {
   "cell_type": "code",
   "execution_count": 59,
   "id": "3bcf4dc8-2ab0-45f6-a60b-92640271966e",
   "metadata": {},
   "outputs": [],
   "source": [
    "a=cv.fit_transform(df['cumleler'])"
   ]
  },
  {
   "cell_type": "code",
   "execution_count": 61,
   "id": "d815c641-865d-4f66-8fd9-9bf65a83b906",
   "metadata": {},
   "outputs": [
    {
     "data": {
      "text/plain": [
       "array([[1, 0, 1, 0, 0, 0, 0, 0],\n",
       "       [1, 1, 1, 0, 0, 0, 0, 0],\n",
       "       [1, 0, 2, 0, 0, 0, 0, 0],\n",
       "       [1, 1, 1, 1, 0, 0, 0, 0],\n",
       "       [0, 0, 0, 0, 1, 1, 1, 1],\n",
       "       [0, 0, 0, 0, 1, 1, 0, 1],\n",
       "       [0, 0, 0, 0, 2, 0, 0, 1]], dtype=int64)"
      ]
     },
     "execution_count": 61,
     "metadata": {},
     "output_type": "execute_result"
    }
   ],
   "source": [
    "a.toarray()"
   ]
  },
  {
   "cell_type": "code",
   "execution_count": 63,
   "id": "902b7ed3-f049-42b3-93a2-f79b721d47ec",
   "metadata": {},
   "outputs": [],
   "source": [
    "cv=CountVectorizer(max_features=4)"
   ]
  },
  {
   "cell_type": "code",
   "execution_count": 65,
   "id": "31b0b6f6-ba51-4382-a913-971010635666",
   "metadata": {},
   "outputs": [],
   "source": [
    "a=cv.fit_transform(df['cumleler'])"
   ]
  },
  {
   "cell_type": "code",
   "execution_count": 67,
   "id": "d1ba8a38-bb1c-4bbe-babb-87e38ff6862b",
   "metadata": {},
   "outputs": [
    {
     "data": {
      "text/plain": [
       "array([[1, 1, 0, 0],\n",
       "       [1, 1, 0, 0],\n",
       "       [1, 2, 0, 0],\n",
       "       [1, 1, 0, 0],\n",
       "       [0, 0, 1, 1],\n",
       "       [0, 0, 1, 1],\n",
       "       [0, 0, 2, 1]], dtype=int64)"
      ]
     },
     "execution_count": 67,
     "metadata": {},
     "output_type": "execute_result"
    }
   ],
   "source": [
    "x=a.toarray()"
   ]
  },
  {
   "cell_type": "code",
   "execution_count": 71,
   "id": "905c1075-56eb-4c49-9e55-658ceeba164c",
   "metadata": {},
   "outputs": [
    {
     "data": {
      "text/plain": [
       "array(['ali', 'bak', 'iç', 'ışık'], dtype=object)"
      ]
     },
     "execution_count": 71,
     "metadata": {},
     "output_type": "execute_result"
    }
   ],
   "source": [
    "cv.get_feature_names_out()"
   ]
  },
  {
   "cell_type": "code",
   "execution_count": null,
   "id": "bb215242-ea14-4922-aad6-b79cc405e4d3",
   "metadata": {},
   "outputs": [],
   "source": [
    "# stop words \n",
    "\n",
    "# örneğin \"ne, gibi, fakat, mesela\""
   ]
  }
 ],
 "metadata": {
  "kernelspec": {
   "display_name": "Python [conda env:base] *",
   "language": "python",
   "name": "conda-base-py"
  },
  "language_info": {
   "codemirror_mode": {
    "name": "ipython",
    "version": 3
   },
   "file_extension": ".py",
   "mimetype": "text/x-python",
   "name": "python",
   "nbconvert_exporter": "python",
   "pygments_lexer": "ipython3",
   "version": "3.12.7"
  }
 },
 "nbformat": 4,
 "nbformat_minor": 5
}
