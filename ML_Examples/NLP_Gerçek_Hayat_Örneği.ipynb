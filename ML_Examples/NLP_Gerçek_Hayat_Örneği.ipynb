{
 "cells": [
  {
   "cell_type": "markdown",
   "id": "d8189a50-64c2-4f76-9467-4cacefdf10cd",
   "metadata": {},
   "source": [
    "## Yapay Zeka Telefon Bankacılığı Proje"
   ]
  },
  {
   "cell_type": "code",
   "execution_count": null,
   "id": "14b8beae-4341-4853-84b6-8325c68a2961",
   "metadata": {},
   "outputs": [],
   "source": [
    "import pandas as pd\n",
    "import numpy as np\n",
    "from sklearn.feature_extraction.text import CountVectorizer\n",
    "from sklearn.ensemble import RandomForestClassifier\n",
    "from sklearn.model_selection import train_test_split"
   ]
  },
  {
   "cell_type": "code",
   "execution_count": null,
   "id": "167a0588-9ac4-4ce6-ab72-666f11dcb7a7",
   "metadata": {},
   "outputs": [],
   "source": [
    "df=pd.read_csv('bankv3.csv')"
   ]
  },
  {
   "cell_type": "code",
   "execution_count": null,
   "id": "fae80fa7-9cd8-48ad-892d-21dd65a2bfa2",
   "metadata": {},
   "outputs": [],
   "source": [
    "df.head(3)"
   ]
  },
  {
   "cell_type": "code",
   "execution_count": null,
   "id": "3211a409-6908-453e-bb50-d3edc55e03df",
   "metadata": {},
   "outputs": [],
   "source": [
    "df=df[['sorgu','label']]"
   ]
  },
  {
   "cell_type": "code",
   "execution_count": null,
   "id": "406a0b96-16b8-40f2-a6c3-8b8cd5bc87f7",
   "metadata": {},
   "outputs": [],
   "source": [
    "df.head(30)"
   ]
  },
  {
   "cell_type": "code",
   "execution_count": null,
   "id": "e775c019-892f-4549-a15d-9c014149a823",
   "metadata": {},
   "outputs": [],
   "source": [
    "stopwords=['fakat','lakin','ancak','acaba', 'ama', 'aslında', 'az', 'bazı', 'belki', 'biri', 'birkaç', 'birşey', 'biz', 'bu', 'çok', 'çünkü', 'da', 'daha', 'de', 'defa', 'diye', 'eğer', 'en', 'gibi', 'hem', 'hep', 'hepsi', 'her', 'hiç', 'için', 'ile', 'ise', 'kez', 'ki', 'kim', 'mı', 'mu', 'mü', 'nasıl', 'ne', 'neden', 'nerde', 'nerede', 'nereye', 'niçin', 'niye', 'o', 'sanki', 'şey', 'siz', 'şu', 'tüm', 've', 'veya', 'ya', 'yani']"
   ]
  },
  {
   "cell_type": "code",
   "execution_count": null,
   "id": "246e5b68-6bce-4e8a-a290-c99ee1f7ef3f",
   "metadata": {},
   "outputs": [],
   "source": [
    "mesaj= input(\"Yapmak istediğiniz işlemi giriniz.\")\n",
    "mesajdf= pd.DataFrame({\"sorgu\":mesaj,\"label\":0},index=[42])\n",
    "\n",
    "df = pd.concat([df,mesajdf],ignore_index=True)\n",
    "\n",
    "tahmin = x[-1].copy()\n",
    "\n",
    "for word in stopwords:\n",
    "    word = \" \"+word+\" \"\n",
    "    df['sorgu']=df['sorgu'].str.replace(word, \" \")\n",
    "\n",
    "cv=CountVectorizer(max_features=50)\n",
    "x = cv.fit_transform(df['sorgu']).toarray()\n",
    "y = df['label']"
   ]
  },
  {
   "cell_type": "code",
   "execution_count": null,
   "id": "34e1fb52-b9de-4567-adf5-c543f18ed33c",
   "metadata": {},
   "outputs": [],
   "source": [
    "x"
   ]
  },
  {
   "cell_type": "code",
   "execution_count": null,
   "id": "be834874-1e55-4341-8169-de7efc131d4a",
   "metadata": {},
   "outputs": [],
   "source": [
    "x[1]"
   ]
  },
  {
   "cell_type": "code",
   "execution_count": null,
   "id": "b343c2ae-fbf2-454a-87ae-14a71ac2f8d3",
   "metadata": {},
   "outputs": [],
   "source": [
    "x_train,x_test,y_train,y_test = train_test_split(x,y,random_state=21, train_size=0.7)"
   ]
  },
  {
   "cell_type": "code",
   "execution_count": null,
   "id": "f5b696bb-adf2-4e00-911e-a0070255190e",
   "metadata": {},
   "outputs": [],
   "source": [
    "rf= RandomForestClassifier()\n",
    "model = rf.fit(x_train,y_train)\n",
    "model.score(x_test,y_test)"
   ]
  },
  {
   "cell_type": "code",
   "execution_count": null,
   "id": "431eb50a-9c0a-48b3-93a1-011df2ce829e",
   "metadata": {},
   "outputs": [],
   "source": []
  }
 ],
 "metadata": {
  "kernelspec": {
   "display_name": "Python [conda env:base] *",
   "language": "python",
   "name": "conda-base-py"
  },
  "language_info": {
   "codemirror_mode": {
    "name": "ipython",
    "version": 3
   },
   "file_extension": ".py",
   "mimetype": "text/x-python",
   "name": "python",
   "nbconvert_exporter": "python",
   "pygments_lexer": "ipython3",
   "version": "3.12.7"
  }
 },
 "nbformat": 4,
 "nbformat_minor": 5
}
