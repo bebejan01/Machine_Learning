{
 "cells": [
  {
   "cell_type": "code",
   "execution_count": 1,
   "id": "a104288f-b918-4e8f-ab0f-38d397ad7190",
   "metadata": {},
   "outputs": [],
   "source": [
    "# Regresyon & Sınıflandırma"
   ]
  },
  {
   "cell_type": "code",
   "execution_count": 9,
   "id": "bfceaff7-b2d4-4705-a938-147f4bc63d6d",
   "metadata": {},
   "outputs": [],
   "source": [
    "# y= ax + b \n",
    "\n",
    "# y --> bağımlı değişken\n",
    "\n",
    "# x --> bağımsız değişken\n",
    "\n",
    "# a --> bağımsız değişkenin katsayısı\n",
    "\n",
    "# b --> hata, sabit"
   ]
  },
  {
   "cell_type": "code",
   "execution_count": 19,
   "id": "2d08db25-7a50-400b-9283-0d77b8bbecde",
   "metadata": {},
   "outputs": [],
   "source": [
    "from sklearn.linear_model import LinearRegression\n",
    "import pandas as pd"
   ]
  },
  {
   "cell_type": "code",
   "execution_count": 29,
   "id": "55825f13-6f28-4ab1-957e-9e1ef93d7db1",
   "metadata": {},
   "outputs": [],
   "source": [
    "df=pd.read_csv(\"Student_Marks.csv\")"
   ]
  },
  {
   "cell_type": "code",
   "execution_count": 47,
   "id": "2197f6ef-4eb7-4490-9c73-8e0e48f2880c",
   "metadata": {},
   "outputs": [
    {
     "data": {
      "text/html": [
       "<div>\n",
       "<style scoped>\n",
       "    .dataframe tbody tr th:only-of-type {\n",
       "        vertical-align: middle;\n",
       "    }\n",
       "\n",
       "    .dataframe tbody tr th {\n",
       "        vertical-align: top;\n",
       "    }\n",
       "\n",
       "    .dataframe thead th {\n",
       "        text-align: right;\n",
       "    }\n",
       "</style>\n",
       "<table border=\"1\" class=\"dataframe\">\n",
       "  <thead>\n",
       "    <tr style=\"text-align: right;\">\n",
       "      <th></th>\n",
       "      <th>number_courses</th>\n",
       "      <th>time_study</th>\n",
       "      <th>Marks</th>\n",
       "    </tr>\n",
       "  </thead>\n",
       "  <tbody>\n",
       "    <tr>\n",
       "      <th>0</th>\n",
       "      <td>3</td>\n",
       "      <td>4.508</td>\n",
       "      <td>19.202</td>\n",
       "    </tr>\n",
       "    <tr>\n",
       "      <th>1</th>\n",
       "      <td>4</td>\n",
       "      <td>0.096</td>\n",
       "      <td>7.734</td>\n",
       "    </tr>\n",
       "  </tbody>\n",
       "</table>\n",
       "</div>"
      ],
      "text/plain": [
       "   number_courses  time_study   Marks\n",
       "0               3       4.508  19.202\n",
       "1               4       0.096   7.734"
      ]
     },
     "execution_count": 47,
     "metadata": {},
     "output_type": "execute_result"
    }
   ],
   "source": [
    "df.head(2)"
   ]
  },
  {
   "cell_type": "code",
   "execution_count": 33,
   "id": "e43747c7-a24f-4712-9dc1-2f912ea4916b",
   "metadata": {},
   "outputs": [],
   "source": [
    "y=df [[\"Marks\"]]\n",
    "x=df [[\"number_courses\",\"time_study\"]]"
   ]
  },
  {
   "cell_type": "code",
   "execution_count": 35,
   "id": "69adb85b-ff45-4005-b6e3-2c299eb8ca8f",
   "metadata": {},
   "outputs": [
    {
     "name": "stdout",
     "output_type": "stream",
     "text": [
      "<class 'pandas.core.frame.DataFrame'>\n",
      "RangeIndex: 100 entries, 0 to 99\n",
      "Data columns (total 3 columns):\n",
      " #   Column          Non-Null Count  Dtype  \n",
      "---  ------          --------------  -----  \n",
      " 0   number_courses  100 non-null    int64  \n",
      " 1   time_study      100 non-null    float64\n",
      " 2   Marks           100 non-null    float64\n",
      "dtypes: float64(2), int64(1)\n",
      "memory usage: 2.5 KB\n"
     ]
    }
   ],
   "source": [
    "df.info()"
   ]
  },
  {
   "cell_type": "code",
   "execution_count": 37,
   "id": "729ae90d-152e-4d26-817b-d1b67d801a22",
   "metadata": {},
   "outputs": [],
   "source": [
    "l=LinearRegression()\n",
    "model=l.fit(x,y)"
   ]
  },
  {
   "cell_type": "code",
   "execution_count": 41,
   "id": "197002ac-e393-492b-8680-bdf2cd839247",
   "metadata": {},
   "outputs": [
    {
     "name": "stderr",
     "output_type": "stream",
     "text": [
      "C:\\Users\\T7\\anaconda3\\Lib\\site-packages\\sklearn\\base.py:493: UserWarning: X does not have valid feature names, but LinearRegression was fitted with feature names\n",
      "  warnings.warn(\n"
     ]
    },
    {
     "data": {
      "text/plain": [
       "array([[62.92595145]])"
      ]
     },
     "execution_count": 41,
     "metadata": {},
     "output_type": "execute_result"
    }
   ],
   "source": [
    "model.predict([[3,12]])"
   ]
  },
  {
   "cell_type": "code",
   "execution_count": 49,
   "id": "8ae65c17-affc-44c4-907f-19009b3e9982",
   "metadata": {},
   "outputs": [
    {
     "data": {
      "text/plain": [
       "55.299"
      ]
     },
     "execution_count": 49,
     "metadata": {},
     "output_type": "execute_result"
    }
   ],
   "source": [
    "df['Marks'].max()"
   ]
  },
  {
   "cell_type": "code",
   "execution_count": 51,
   "id": "d94fbc0d-e806-46e8-9cc1-c08afa861fef",
   "metadata": {},
   "outputs": [
    {
     "data": {
      "text/plain": [
       "0.9403656320238896"
      ]
     },
     "execution_count": 51,
     "metadata": {},
     "output_type": "execute_result"
    }
   ],
   "source": [
    "model.score(x,y)"
   ]
  },
  {
   "cell_type": "code",
   "execution_count": null,
   "id": "fa3d1bba-de62-4445-ad5a-d1d68d78549e",
   "metadata": {},
   "outputs": [],
   "source": [
    "  "
   ]
  }
 ],
 "metadata": {
  "kernelspec": {
   "display_name": "Python [conda env:base] *",
   "language": "python",
   "name": "conda-base-py"
  },
  "language_info": {
   "codemirror_mode": {
    "name": "ipython",
    "version": 3
   },
   "file_extension": ".py",
   "mimetype": "text/x-python",
   "name": "python",
   "nbconvert_exporter": "python",
   "pygments_lexer": "ipython3",
   "version": "3.12.7"
  }
 },
 "nbformat": 4,
 "nbformat_minor": 5
}
