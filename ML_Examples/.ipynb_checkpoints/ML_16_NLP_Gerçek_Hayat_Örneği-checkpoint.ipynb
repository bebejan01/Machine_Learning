{
 "cells": [
  {
   "cell_type": "code",
   "execution_count": 1,
   "id": "85ed4a8b-3ea0-47c2-9921-9c3b8855c4d7",
   "metadata": {},
   "outputs": [],
   "source": [
    "import pandas as pd\n",
    "import numpy as np\n",
    "from sklearn.feature_extraction.text import CountVectorizer\n",
    "from sklearn.ensemble import RandomForestClassifier\n",
    "from sklearn.model_selection import train_test_split"
   ]
  },
  {
   "cell_type": "code",
   "execution_count": 29,
   "id": "54b5526c-5650-4009-9d0b-ff44e9bee66e",
   "metadata": {},
   "outputs": [
    {
     "name": "stdin",
     "output_type": "stream",
     "text": [
      "Yapmak istediğiniz işlemi giriniz. kredi kartı borcumu ödemek istiyorum\n"
     ]
    },
    {
     "name": "stdout",
     "output_type": "stream",
     "text": [
      "Sonuc: ['borcodeme'] Skor: 1.0\n"
     ]
    }
   ],
   "source": [
    "df=pd.read_csv('bankv3.csv')\n",
    "df=df[['sorgu','label']]\n",
    "stopwords=['fakat','lakin','ancak','acaba', 'ama', 'aslında', 'az', 'bazı', 'belki', 'biri', 'birkaç', 'birşey', 'biz', 'bu', 'çok', 'çünkü', 'da', 'daha', 'de', 'defa', 'diye', 'eğer', 'en', 'gibi', 'hem', 'hep', 'hepsi', 'her', 'hiç', 'için', 'ile', 'ise', 'kez', 'ki', 'kim', 'mı', 'mu', 'mü', 'nasıl', 'ne', 'neden', 'nerde', 'nerede', 'nereye', 'niçin', 'niye', 'o', 'sanki', 'şey', 'siz', 'şu', 'tüm', 've', 'veya', 'ya', 'yani']\n",
    "\n",
    "mesaj= input(\"Yapmak istediğiniz işlemi giriniz.\")\n",
    "mesajdf= pd.DataFrame({\"sorgu\":mesaj,\"label\":0},index=[42])\n",
    "\n",
    "df = pd.concat([df,mesajdf],ignore_index=True)\n",
    "\n",
    "for word in stopwords:\n",
    "    word = \" \"+word+\" \"\n",
    "    df['sorgu']=df['sorgu'].str.replace(word, \" \")\n",
    "\n",
    "cv=CountVectorizer(max_features=50)\n",
    "\n",
    "x = cv.fit_transform(df['sorgu']).toarray()\n",
    "y = df['label']\n",
    "\n",
    "tahmin = x[-1].copy()\n",
    "\n",
    "x=x[0:-1]\n",
    "y=y[0:-1]\n",
    "\n",
    "x_train,x_test,y_train,y_test = train_test_split(x,y,random_state=21, train_size=0.7)\n",
    "\n",
    "rf= RandomForestClassifier()\n",
    "model = rf.fit(x_train,y_train)\n",
    "skor=model.score(x_test,y_test)\n",
    "\n",
    "sonuc=model.predict([tahmin])\n",
    "\n",
    "print(\"Sonuc:\",sonuc,\"Skor:\",skor)\n"
   ]
  },
  {
   "cell_type": "code",
   "execution_count": 19,
   "id": "a8b360af-7909-462b-a103-6f4660cf88c1",
   "metadata": {},
   "outputs": [
    {
     "data": {
      "text/html": [
       "<div>\n",
       "<style scoped>\n",
       "    .dataframe tbody tr th:only-of-type {\n",
       "        vertical-align: middle;\n",
       "    }\n",
       "\n",
       "    .dataframe tbody tr th {\n",
       "        vertical-align: top;\n",
       "    }\n",
       "\n",
       "    .dataframe thead th {\n",
       "        text-align: right;\n",
       "    }\n",
       "</style>\n",
       "<table border=\"1\" class=\"dataframe\">\n",
       "  <thead>\n",
       "    <tr style=\"text-align: right;\">\n",
       "      <th></th>\n",
       "      <th>sorgu</th>\n",
       "      <th>label</th>\n",
       "    </tr>\n",
       "  </thead>\n",
       "  <tbody>\n",
       "    <tr>\n",
       "      <th>0</th>\n",
       "      <td>kredi kartımı kaybettim</td>\n",
       "      <td>kartkayip</td>\n",
       "    </tr>\n",
       "    <tr>\n",
       "      <th>1</th>\n",
       "      <td>banka kartımı kaybettim</td>\n",
       "      <td>kartkayip</td>\n",
       "    </tr>\n",
       "    <tr>\n",
       "      <th>2</th>\n",
       "      <td>kredi kartımı bulamıyorum</td>\n",
       "      <td>kartkayip</td>\n",
       "    </tr>\n",
       "    <tr>\n",
       "      <th>3</th>\n",
       "      <td>kredi kartım çalındı</td>\n",
       "      <td>kartkayip</td>\n",
       "    </tr>\n",
       "    <tr>\n",
       "      <th>4</th>\n",
       "      <td>kredi kartımın olduğunu bilmiyorum</td>\n",
       "      <td>kartkayip</td>\n",
       "    </tr>\n",
       "    <tr>\n",
       "      <th>...</th>\n",
       "      <td>...</td>\n",
       "      <td>...</td>\n",
       "    </tr>\n",
       "    <tr>\n",
       "      <th>170</th>\n",
       "      <td>Müşteri temsilcisi görüşme ayarlamak istiyorum.</td>\n",
       "      <td>musterihizmetleri</td>\n",
       "    </tr>\n",
       "    <tr>\n",
       "      <th>171</th>\n",
       "      <td>Müşteri destek ekibine ulaşmak istiyorum.</td>\n",
       "      <td>musterihizmetleri</td>\n",
       "    </tr>\n",
       "    <tr>\n",
       "      <th>172</th>\n",
       "      <td>Müşteri hizmetleri bağlantıya geçmek istiyorum.</td>\n",
       "      <td>musterihizmetleri</td>\n",
       "    </tr>\n",
       "    <tr>\n",
       "      <th>173</th>\n",
       "      <td>Müşteri destek hattı görüşmem gerekiyor.</td>\n",
       "      <td>musterihizmetleri</td>\n",
       "    </tr>\n",
       "    <tr>\n",
       "      <th>174</th>\n",
       "      <td>kredi kartımı kaybettim</td>\n",
       "      <td>0</td>\n",
       "    </tr>\n",
       "  </tbody>\n",
       "</table>\n",
       "<p>175 rows × 2 columns</p>\n",
       "</div>"
      ],
      "text/plain": [
       "                                               sorgu              label\n",
       "0                            kredi kartımı kaybettim          kartkayip\n",
       "1                            banka kartımı kaybettim          kartkayip\n",
       "2                          kredi kartımı bulamıyorum          kartkayip\n",
       "3                               kredi kartım çalındı          kartkayip\n",
       "4                 kredi kartımın olduğunu bilmiyorum          kartkayip\n",
       "..                                               ...                ...\n",
       "170  Müşteri temsilcisi görüşme ayarlamak istiyorum.  musterihizmetleri\n",
       "171        Müşteri destek ekibine ulaşmak istiyorum.  musterihizmetleri\n",
       "172  Müşteri hizmetleri bağlantıya geçmek istiyorum.  musterihizmetleri\n",
       "173         Müşteri destek hattı görüşmem gerekiyor.  musterihizmetleri\n",
       "174                          kredi kartımı kaybettim                  0\n",
       "\n",
       "[175 rows x 2 columns]"
      ]
     },
     "execution_count": 19,
     "metadata": {},
     "output_type": "execute_result"
    }
   ],
   "source": [
    "df"
   ]
  },
  {
   "cell_type": "code",
   "execution_count": 21,
   "id": "66645f8d-dac7-4c12-99aa-4caf3e1a41b2",
   "metadata": {},
   "outputs": [
    {
     "data": {
      "text/plain": [
       "array([[0, 0, 0, ..., 0, 0, 0],\n",
       "       [0, 0, 1, ..., 0, 0, 0],\n",
       "       [0, 0, 0, ..., 0, 0, 0],\n",
       "       ...,\n",
       "       [0, 0, 0, ..., 0, 0, 0],\n",
       "       [0, 0, 0, ..., 0, 0, 0],\n",
       "       [0, 0, 0, ..., 0, 0, 0]], dtype=int64)"
      ]
     },
     "execution_count": 21,
     "metadata": {},
     "output_type": "execute_result"
    }
   ],
   "source": [
    "x"
   ]
  },
  {
   "cell_type": "code",
   "execution_count": 23,
   "id": "b3bc25c4-4a4a-47ac-b582-681368c10528",
   "metadata": {},
   "outputs": [
    {
     "data": {
      "text/plain": [
       "array([0, 0, 0, 0, 0, 0, 0, 0, 1, 0, 0, 0, 0, 0, 0, 0, 0, 0, 0, 0, 0, 0,\n",
       "       0, 0, 0, 0, 0, 0, 0, 1, 0, 0, 0, 0, 0, 0, 0, 0, 0, 0, 0, 0, 0, 0,\n",
       "       0, 0, 0, 0, 0, 0], dtype=int64)"
      ]
     },
     "execution_count": 23,
     "metadata": {},
     "output_type": "execute_result"
    }
   ],
   "source": [
    "tahmin"
   ]
  },
  {
   "cell_type": "code",
   "execution_count": 31,
   "id": "c19a3b5e-ade4-4fa6-b6a7-285de72e3797",
   "metadata": {},
   "outputs": [],
   "source": [
    "# LLM --> chatgpt, bard "
   ]
  },
  {
   "cell_type": "code",
   "execution_count": null,
   "id": "3436ac2b-7b7a-48ff-94bc-d16bd4c38033",
   "metadata": {},
   "outputs": [],
   "source": []
  }
 ],
 "metadata": {
  "kernelspec": {
   "display_name": "Python [conda env:base] *",
   "language": "python",
   "name": "conda-base-py"
  },
  "language_info": {
   "codemirror_mode": {
    "name": "ipython",
    "version": 3
   },
   "file_extension": ".py",
   "mimetype": "text/x-python",
   "name": "python",
   "nbconvert_exporter": "python",
   "pygments_lexer": "ipython3",
   "version": "3.12.7"
  }
 },
 "nbformat": 4,
 "nbformat_minor": 5
}
