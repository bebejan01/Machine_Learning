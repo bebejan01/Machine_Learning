{
 "cells": [
  {
   "cell_type": "code",
   "execution_count": 1,
   "id": "a104288f-b918-4e8f-ab0f-38d397ad7190",
   "metadata": {},
   "outputs": [],
   "source": [
    "# Regresyon & Sınıflandırma"
   ]
  },
  {
   "cell_type": "code",
   "execution_count": 9,
   "id": "bfceaff7-b2d4-4705-a938-147f4bc63d6d",
   "metadata": {},
   "outputs": [],
   "source": [
    "# y= ax + b \n",
    "\n",
    "# y --> bağımlı değişken\n",
    "\n",
    "# x --> bağımsız değişken\n",
    "\n",
    "# a --> bağımsız değişkenin katsayısı\n",
    "\n",
    "# b --> hata, sabit"
   ]
  },
  {
   "cell_type": "code",
   "execution_count": 17,
   "id": "2d08db25-7a50-400b-9283-0d77b8bbecde",
   "metadata": {},
   "outputs": [],
   "source": [
    "from sklearn.linear_model import LinearRegression"
   ]
  },
  {
   "cell_type": "code",
   "execution_count": null,
   "id": "55825f13-6f28-4ab1-957e-9e1ef93d7db1",
   "metadata": {},
   "outputs": [],
   "source": []
  }
 ],
 "metadata": {
  "kernelspec": {
   "display_name": "Python [conda env:base] *",
   "language": "python",
   "name": "conda-base-py"
  },
  "language_info": {
   "codemirror_mode": {
    "name": "ipython",
    "version": 3
   },
   "file_extension": ".py",
   "mimetype": "text/x-python",
   "name": "python",
   "nbconvert_exporter": "python",
   "pygments_lexer": "ipython3",
   "version": "3.12.7"
  }
 },
 "nbformat": 4,
 "nbformat_minor": 5
}
